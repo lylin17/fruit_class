{
 "cells": [
  {
   "cell_type": "markdown",
   "metadata": {
    "colab_type": "text",
    "id": "Oxl2RSbFo6kg"
   },
   "source": [
    "# Fruit Classification Model"
   ]
  },
  {
   "cell_type": "code",
   "execution_count": 1,
   "metadata": {
    "scrolled": true
   },
   "outputs": [
    {
     "name": "stderr",
     "output_type": "stream",
     "text": [
      "Using TensorFlow backend.\n"
     ]
    }
   ],
   "source": [
    "import os\n",
    "import pickle\n",
    "import random\n",
    "\n",
    "from keras import backend as K\n",
    "from keras import metrics\n",
    "from keras.applications.vgg16 import VGG16\n",
    "from keras.callbacks import LearningRateScheduler, ModelCheckpoint\n",
    "from keras.layers import Activation,Dense,Dropout,Flatten,BatchNormalization\n",
    "from keras.models import load_model, Sequential\n",
    "from keras.optimizers import Adam\n",
    "from keras.preprocessing.image import ImageDataGenerator\n",
    "from keras.regularizers import l2\n",
    "from keras.utils import to_categorical\n",
    "import matplotlib.pyplot as plt\n",
    "%matplotlib inline\n",
    "import numpy as np\n",
    "import pandas as pd\n",
    "from sklearn.model_selection import train_test_split\n",
    "import tensorflow as tf\n",
    "import wget"
   ]
  },
  {
   "cell_type": "code",
   "execution_count": 2,
   "metadata": {},
   "outputs": [],
   "source": [
    "#Keras reproducibility (without GPU)\n",
    "\n",
    "# Set seeds\n",
    "np.random.seed(42)\n",
    "random.seed(12345)\n",
    "\n",
    "# Force TensorFlow to use single thread.\n",
    "session_conf = tf.ConfigProto(intra_op_parallelism_threads=1,\n",
    "                              inter_op_parallelism_threads=1)\n",
    "\n",
    "# The below tf.set_random_seed() will make random number generation\n",
    "# in the TensorFlow backend have a well-defined initial state.\n",
    "tf.set_random_seed(1234)\n",
    "\n",
    "sess = tf.Session(graph=tf.get_default_graph(), config=session_conf)\n",
    "K.set_session(sess)"
   ]
  },
  {
   "cell_type": "markdown",
   "metadata": {
    "colab_type": "text",
    "id": "qJ4_qNwYo6kn"
   },
   "source": [
    "## 1. Data\n",
    "\n",
    "- 300 images of apples, oranges and pears each scrapped using google_images_download using the keywords 'apples fruit', 'oranges fruit' and 'pear fruit'\n",
    "\n",
    "- Checking your chrome version https://www.whatismybrowser.com/detect/what-version-of-chrome-do-i-have and download the correct chromedriver here: http://chromedriver.chromium.org/downloads\n",
    "\n",
    "- Images cleaned (RGB only) and processed by resizing to 244 X 244 (centered)\n",
    "\n",
    "- Images stored as pickle files (300 X 244 X 244 X 3 np arrays) and uploaded to google drive (publicly accessible).\n",
    "\n",
    "- Load file into jupyter notebook from google drive using wget."
   ]
  },
  {
   "cell_type": "code",
   "execution_count": 3,
   "metadata": {},
   "outputs": [
    {
     "name": "stdout",
     "output_type": "stream",
     "text": [
      "start download x_apples.pkl...done\n",
      "start download x_oranges.pkl...done\n",
      "start download x_pears.pkl...done\n"
     ]
    }
   ],
   "source": [
    "# Use wget to download pickle files from google\n",
    "\n",
    "#setup data directory in current directory if not present\n",
    "if not os.path.isdir('./data'):\n",
    "    os.mkdir('./data')\n",
    "\n",
    "#apples\n",
    "path  = './data/x_apples.pkl'\n",
    "if not os.path.exists(path):\n",
    "    print('start download x_apples.pkl...', end='')\n",
    "    wget.download('https://drive.google.com/uc?export=download&id=1rFDkhfChmKU-9X_UcqdpFwTLFs6mm-LR', out=path, bar=None)\n",
    "    print('done')\n",
    "    \n",
    "#oranges\n",
    "path  = './data/x_oranges.pkl'\n",
    "if not os.path.exists(path):\n",
    "    print('start download x_oranges.pkl...', end='')\n",
    "    wget.download('https://drive.google.com/uc?export=download&id=1bLulvDKAMtPgALrcdH3HfzBwLOFItR4s', out=path, bar=None)\n",
    "    print('done')\n",
    "    \n",
    "#pears\n",
    "path  = './data/x_pears.pkl'\n",
    "if not os.path.exists(path):\n",
    "    print('start download x_pears.pkl...', end='')\n",
    "    wget.download('https://drive.google.com/uc?export=download&id=1-nerhTEFRPABATA1gP3EJEDsok8tzdJl', out=path, bar=None)\n",
    "    print('done')\n",
    "    \n",
    "# Unpickle to get np array for each data set \n",
    "x_apple = pickle.load(open('./data/x_apples.pkl', 'rb'))\n",
    "x_orange = pickle.load(open('./data/x_oranges.pkl', 'rb'))\n",
    "x_pear = pickle.load(open('./data/x_pears.pkl', 'rb'))"
   ]
  },
  {
   "cell_type": "markdown",
   "metadata": {
    "colab_type": "text",
    "id": "DE1dm5nUo6kr"
   },
   "source": [
    "### 2.3 Train model"
   ]
  },
  {
   "cell_type": "markdown",
   "metadata": {
    "colab_type": "text",
    "id": "DE1dm5nUo6kr"
   },
   "source": [
    "- Transfer learning using pre-trained VGG-16 model (only training the FC layers)\n",
    "- Set up as a multiclass classification problem with 3 classes: Apples, Oranges, Pears\n",
    "- Trained model saved as model.h5 file, evaluated by validation loss and validation accuracy"
   ]
  },
  {
   "cell_type": "code",
   "execution_count": 4,
   "metadata": {},
   "outputs": [],
   "source": [
    "# Put together a dataset with labels\n",
    "num_images = 25\n",
    "\n",
    "x = np.concatenate([x_apple,x_orange,x_pear],axis=0)\n",
    "y = [0]*(num_images-1) + [1]*num_images + [2]*num_images\n",
    "\n",
    "#Train-test split and format labels for keras multiclass classification\n",
    "x_train, x_val, y_train, y_val = train_test_split(x, y, test_size=0.3, random_state=42)\n",
    "y_train = to_categorical(y_train,3,'float32')\n",
    "y_val = to_categorical(y_val,3,'float32')\n",
    "\n",
    "#Define data generator for data augmentation\n",
    "\n",
    "datagen = ImageDataGenerator(\n",
    "    rotation_range=10,\n",
    "    horizontal_flip=True)"
   ]
  },
  {
   "cell_type": "code",
   "execution_count": 5,
   "metadata": {},
   "outputs": [
    {
     "name": "stdout",
     "output_type": "stream",
     "text": [
      "Downloading data from https://github.com/fchollet/deep-learning-models/releases/download/v0.1/vgg16_weights_tf_dim_ordering_tf_kernels_notop.h5\n",
      "58892288/58889256 [==============================] - 2s 0us/step\n",
      "_________________________________________________________________\n",
      "Layer (type)                 Output Shape              Param #   \n",
      "=================================================================\n",
      "vgg16 (Model)                (None, 7, 7, 512)         14714688  \n",
      "_________________________________________________________________\n",
      "flatten_1 (Flatten)          (None, 25088)             0         \n",
      "_________________________________________________________________\n",
      "dense_1 (Dense)              (None, 64)                1605696   \n",
      "_________________________________________________________________\n",
      "batch_normalization_1 (Batch (None, 64)                256       \n",
      "_________________________________________________________________\n",
      "activation_1 (Activation)    (None, 64)                0         \n",
      "_________________________________________________________________\n",
      "dropout_1 (Dropout)          (None, 64)                0         \n",
      "_________________________________________________________________\n",
      "dense_2 (Dense)              (None, 3)                 195       \n",
      "_________________________________________________________________\n",
      "activation_2 (Activation)    (None, 3)                 0         \n",
      "=================================================================\n",
      "Total params: 16,320,835\n",
      "Trainable params: 1,606,019\n",
      "Non-trainable params: 14,714,816\n",
      "_________________________________________________________________\n"
     ]
    }
   ],
   "source": [
    "# Load pretrained VGG-16 model without FC layer\n",
    "model = VGG16(weights = \"imagenet\", include_top=False, input_shape = (244, 244, 3))\n",
    "\n",
    "# Freeze all pre-trained layers\n",
    "for layer in model.layers:\n",
    "    layer.trainable = False\n",
    "\n",
    "#Define FC layers \n",
    "Initializer = 'he_normal'\n",
    "activation = Activation('relu')\n",
    "Regularizer = l2\n",
    "regparam = 5e-3    \n",
    "\n",
    "model2 = Sequential()\n",
    "model2.add(model)\n",
    "\n",
    "model2.add(Flatten())\n",
    "\n",
    "model2.add(Dense(64,kernel_initializer=Initializer,kernel_regularizer=Regularizer(regparam)))\n",
    "model2.add(BatchNormalization(momentum=0.9))\n",
    "model2.add(activation)\n",
    "model2.add(Dropout(0.7,seed=123))\n",
    "\n",
    "model2.add(Dense(3,kernel_initializer=Initializer))\n",
    "model2.add(Activation('softmax'))\n",
    "\n",
    "# Set optimizers and compile model\n",
    "adam = Adam(beta_1=0.9, beta_2=0.999, decay=0)\n",
    "model2.compile(loss='categorical_crossentropy',\n",
    "              optimizer=adam,\n",
    "              metrics = ['accuracy'])\n",
    "\n",
    "model2.summary()"
   ]
  },
  {
   "cell_type": "code",
   "execution_count": 6,
   "metadata": {
    "scrolled": true
   },
   "outputs": [
    {
     "name": "stdout",
     "output_type": "stream",
     "text": [
      "Epoch 1/5\n",
      "7/6 [================================] - 78s 11s/step - loss: 1.8307 - acc: 0.5221 - val_loss: 0.8683 - val_acc: 0.8696\n",
      "Epoch 2/5\n",
      "7/6 [================================] - 76s 11s/step - loss: 1.0721 - acc: 0.7209 - val_loss: 0.6262 - val_acc: 1.0000\n",
      "Epoch 3/5\n",
      "7/6 [================================] - 76s 11s/step - loss: 1.1783 - acc: 0.7672 - val_loss: 0.6319 - val_acc: 1.0000\n",
      "Epoch 4/5\n",
      "7/6 [================================] - 77s 11s/step - loss: 0.8454 - acc: 0.8474 - val_loss: 0.6328 - val_acc: 1.0000\n",
      "Epoch 5/5\n",
      "7/6 [================================] - 76s 11s/step - loss: 0.8228 - acc: 0.8554 - val_loss: 0.6627 - val_acc: 1.0000\n"
     ]
    }
   ],
   "source": [
    "def lr_sch(epoch):\n",
    "    #Learning rate schedule for stochastic gradient descent with restarts (cosine annealing)\n",
    "\n",
    "    min_lr = 1e-5\n",
    "    max_lr = 1e-3\n",
    "    # number of epochs to restart\n",
    "    restart = 5 \n",
    "\n",
    "    lrate = min_lr + 0.5*(max_lr - min_lr) * (1+np.cos(((epoch - (epoch//restart * restart))/ restart) * np.pi))      \n",
    "\n",
    "    return lrate\n",
    "\n",
    "lrsch = LearningRateScheduler(lr_sch)\n",
    "\n",
    "#Save best model file at checkpoint \n",
    "checkpoint = ModelCheckpoint(\"model.h5\", monitor='val_loss', save_best_only=True, save_weights_only=False, mode='min', period=1)\n",
    "\n",
    "#model_fit\n",
    "\n",
    "batch_size = 8\n",
    "modelfit = model2.fit_generator(datagen.flow(x_train, y_train, batch_size),\n",
    "        steps_per_epoch = x_train.shape[0] / batch_size, \n",
    "        epochs=5,\n",
    "        verbose=1,\n",
    "        validation_data = (x_val,y_val),\n",
    "        callbacks=[lrsch,checkpoint] \n",
    "        )"
   ]
  },
  {
   "cell_type": "code",
   "execution_count": 7,
   "metadata": {},
   "outputs": [
    {
     "data": {
      "image/png": "[encoded data removed]",
      "text/plain": [
       "<Figure size 1080x504 with 1 Axes>"
      ]
     },
     "metadata": {
      "needs_background": "light"
     },
     "output_type": "display_data"
    }
   ],
   "source": [
    "#Learning Curves\n",
    "\n",
    "#Get data from modelfit and put them into a summary dataframe\n",
    "trainloss = pd.DataFrame(modelfit.history['loss'])\n",
    "trainacc = pd.DataFrame(modelfit.history['acc'])\n",
    "valloss = pd.DataFrame(modelfit.history['val_loss'])\n",
    "valacc = pd.DataFrame(modelfit.history['val_acc'])\n",
    "\n",
    "summary = pd.concat([trainloss,trainacc,valloss,valacc],axis=1)\n",
    "summary.columns = [\"train loss\",\"train acc\",\"val loss\",\"val acc\"]\n",
    "\n",
    "#Plot learning curves\n",
    "f, ax = plt.subplots(figsize=(15, 7))\n",
    "plt.plot(summary.index+1,summary['train loss'],label='Train Loss')\n",
    "plt.plot(summary.index+1,summary['val loss'],label='Val Loss')\n",
    "x_axis = plt.xlabel('No. of Epochs')\n",
    "y_axis = plt.ylabel('Loss')\n",
    "plt.legend()\n",
    "plt.show()"
   ]
  },
  {
   "cell_type": "code",
   "execution_count": 8,
   "metadata": {},
   "outputs": [
    {
     "name": "stdout",
     "output_type": "stream",
     "text": [
      "23/23 [==============================] - 24s 1s/step\n",
      "Validation Loss: 0.626173198223114\n",
      "Validation Accuracy: 1.0\n"
     ]
    }
   ],
   "source": [
    "#Evaluate model saved in h5 file\n",
    "model_saved = load_model('model.h5')\n",
    "\n",
    "evaluate = model_saved.evaluate(x_val,y_val)\n",
    "print('Validation Loss: {0}'.format(evaluate[0]))\n",
    "print('Validation Accuracy: {0}'.format(evaluate[1]))"
   ]
  },
  {
   "cell_type": "code",
   "execution_count": null,
   "metadata": {},
   "outputs": [],
   "source": []
  },
  {
   "cell_type": "code",
   "execution_count": null,
   "metadata": {},
   "outputs": [],
   "source": []
  }
 ],
 "metadata": {
  "colab": {
   "collapsed_sections": [],
   "name": "week6.ipynb",
   "provenance": [],
   "version": "0.3.2"
  },
  "kernelspec": {
   "display_name": "Python 3",
   "language": "python",
   "name": "python3"
  },
  "language_info": {
   "codemirror_mode": {
    "name": "ipython",
    "version": 3
   },
   "file_extension": ".py",
   "mimetype": "text/x-python",
   "name": "python",
   "nbconvert_exporter": "python",
   "pygments_lexer": "ipython3",
   "version": "3.6.9"
  }
 },
 "nbformat": 4,
 "nbformat_minor": 1
}
