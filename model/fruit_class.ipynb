{
 "cells": [
  {
   "cell_type": "markdown",
   "metadata": {
    "colab_type": "text",
    "id": "Oxl2RSbFo6kg"
   },
   "source": [
    "# Fruit Classification Model"
   ]
  },
  {
   "cell_type": "code",
   "execution_count": 1,
   "metadata": {
    "scrolled": true
   },
   "outputs": [
    {
     "name": "stderr",
     "output_type": "stream",
     "text": [
      "Using TensorFlow backend.\n"
     ]
    }
   ],
   "source": [
    "import os\n",
    "import random\n",
    "\n",
    "from keras import backend as K\n",
    "import numpy as np\n",
    "import matplotlib.pyplot as plt\n",
    "import pandas as pd\n",
    "import tensorflow as tf\n",
    "\n",
    "from utils import Data, Model"
   ]
  },
  {
   "cell_type": "code",
   "execution_count": 2,
   "metadata": {},
   "outputs": [],
   "source": [
    "#Keras reproducibility (without GPU)\n",
    "\n",
    "# Set seeds\n",
    "np.random.seed(42)\n",
    "random.seed(12345)\n",
    "\n",
    "# Force TensorFlow to use single thread.\n",
    "session_conf = tf.ConfigProto(intra_op_parallelism_threads=1,\n",
    "                              inter_op_parallelism_threads=1)\n",
    "\n",
    "# The below tf.set_random_seed() will make random number generation\n",
    "# in the TensorFlow backend have a well-defined initial state.\n",
    "tf.set_random_seed(1234)\n",
    "\n",
    "sess = tf.Session(graph=tf.get_default_graph(), config=session_conf)\n",
    "K.set_session(sess)"
   ]
  },
  {
   "cell_type": "markdown",
   "metadata": {
    "colab_type": "text",
    "id": "qJ4_qNwYo6kn"
   },
   "source": [
    "## 1. Data\n",
    "\n",
    "- 350 images of apples, oranges and pears each scrapped using google_images_download using the keywords 'apples fruit', 'oranges fruit' and 'pear fruit'\n",
    "- Checking your chrome version https://www.whatismybrowser.com/detect/what-version-of-chrome-do-i-have and download the correct chromedriver here: http://chromedriver.chromium.org/downloads\n",
    "- Images cleaned (RGB only) and processed by resizing to 244 X 244 (centered)\n",
    "- Images stored as pickle files (300 X 244 X 244 X 3 np arrays) and uploaded to dropbox (publicly accessible).\n",
    "- Load pickle files into jupyter notebook from dropbox using wget.\n",
    "- Format the 3 arrays into a single dataset with labels and perform train-val split of 70:30 for evaluation of model"
   ]
  },
  {
   "cell_type": "code",
   "execution_count": 3,
   "metadata": {},
   "outputs": [],
   "source": [
    "data = Data(fruit_classes=['apples','oranges','pears'])\n",
    "\n",
    "# Use wget to download pickle files from google\n",
    "data.get_data()\n",
    "\n",
    "# Unpickle to get np array for each fruit \n",
    "data.unpickle()\n",
    "\n",
    "#Format into a single dataset with labels and split data into train and val set\n",
    "num_images = 10\n",
    "test_size = 0.3\n",
    "\n",
    "x_train, x_val, y_train, y_val = data.format_split(num_images,test_size)"
   ]
  },
  {
   "cell_type": "markdown",
   "metadata": {
    "colab_type": "text",
    "id": "DE1dm5nUo6kr"
   },
   "source": [
    "### 2.3 Train model"
   ]
  },
  {
   "cell_type": "markdown",
   "metadata": {
    "colab_type": "text",
    "id": "DE1dm5nUo6kr"
   },
   "source": [
    "- Transfer learning using pre-trained VGG-16 model (only training the FC layers)\n",
    "- Set up as a multiclass classification problem with 3 classes: Apples, Oranges, Pears\n",
    "- Trained model saved as model.h5 file, evaluated by validation loss and validation accuracy"
   ]
  },
  {
   "cell_type": "code",
   "execution_count": 4,
   "metadata": {},
   "outputs": [
    {
     "name": "stdout",
     "output_type": "stream",
     "text": [
      "Downloading data from https://github.com/fchollet/deep-learning-models/releases/download/v0.1/vgg16_weights_tf_dim_ordering_tf_kernels_notop.h5\n",
      "58892288/58889256 [==============================] - 2s 0us/step\n",
      "_________________________________________________________________\n",
      "Layer (type)                 Output Shape              Param #   \n",
      "=================================================================\n",
      "vgg16 (Model)                (None, 7, 7, 512)         14714688  \n",
      "_________________________________________________________________\n",
      "flatten_1 (Flatten)          (None, 25088)             0         \n",
      "_________________________________________________________________\n",
      "dense_1 (Dense)              (None, 64)                1605696   \n",
      "_________________________________________________________________\n",
      "batch_normalization_1 (Batch (None, 64)                256       \n",
      "_________________________________________________________________\n",
      "activation_1 (Activation)    (None, 64)                0         \n",
      "_________________________________________________________________\n",
      "dropout_1 (Dropout)          (None, 64)                0         \n",
      "_________________________________________________________________\n",
      "dense_2 (Dense)              (None, 3)                 195       \n",
      "_________________________________________________________________\n",
      "activation_2 (Activation)    (None, 3)                 0         \n",
      "=================================================================\n",
      "Total params: 16,320,835\n",
      "Trainable params: 1,606,019\n",
      "Non-trainable params: 14,714,816\n",
      "_________________________________________________________________\n"
     ]
    }
   ],
   "source": [
    "#Define model architecture and compile model\n",
    "\n",
    "## Architecture\n",
    "# initializer(str): to be used to initialize hidden units\n",
    "# activation_func(str): to be used as activation function for all FC layers except the last layer\n",
    "# regparam(str): L2 regularization parameters for all FC layers\n",
    "# last_layer_activation(str): activation function for the last layer. 'softmax' for multiclass, 'sigmoid' for binary\n",
    "\n",
    "## Model Compile\n",
    "# loss_func(str): loss function used for back propagation\n",
    "# metric(str): metric used for evaluation\n",
    "\n",
    "model = Model(initializer='he_normal', activation_func='relu', regparam=5e-3, last_layer_activation='softmax', \n",
    "              loss_func='categorical_crossentropy', metric='accuracy')\n",
    "\n",
    "model.model.summary()"
   ]
  },
  {
   "cell_type": "code",
   "execution_count": 5,
   "metadata": {},
   "outputs": [
    {
     "name": "stdout",
     "output_type": "stream",
     "text": [
      "Epoch 1/2\n",
      "3/2 [==================================] - 32s 11s/step - loss: 2.0094 - acc: 0.5065 - val_loss: 1.3768 - val_acc: 0.6667\n",
      "Epoch 2/2\n",
      "3/2 [==================================] - 31s 10s/step - loss: 1.2903 - acc: 0.6792 - val_loss: 1.0330 - val_acc: 0.7778\n"
     ]
    }
   ],
   "source": [
    "#Define model utils for training model (Image generator for data augmentation, learning rate schedule and model save checkpoint)\n",
    "\n",
    "## Image generator\n",
    "# rotation_range(int): rotation range for data augmentation\n",
    "# horizontal_flip(bool): whether to include horizontal flip for data augmentation\n",
    "\n",
    "## Model save checkpoint\n",
    "# model_save(str): file name for model file to be saved at checkpoint\n",
    "# monitor(str): metric to monitor to determine best model\n",
    "# mode(str): mode for monitor metric\n",
    "# period(int): number of epochs to check best checkpoint\n",
    "\n",
    "model.model_utils(rotation_range=10, horizontal_flip=True, \n",
    "                    model_save='model.h5', monitor='val_loss', mode='min', period=1)\n",
    "\n",
    "#model_fit\n",
    "model.fit(x_train, y_train, x_val, y_val, batch_size=8, epochs=2, verbose=1)"
   ]
  },
  {
   "cell_type": "code",
   "execution_count": 6,
   "metadata": {},
   "outputs": [
    {
     "data": {
      "image/png": "[encoded data removed]",
      "text/plain": [
       "<Figure size 1080x504 with 1 Axes>"
      ]
     },
     "metadata": {
      "needs_background": "light"
     },
     "output_type": "display_data"
    }
   ],
   "source": [
    "#Learning Curves\n",
    "def plot_learning_curves(modelfit):\n",
    "    '''Plot learning curves of model during training'''\n",
    "\n",
    "    #Get data from modelfit and put them into a summary dataframe\n",
    "    trainloss = pd.DataFrame(modelfit.history['loss'])\n",
    "    trainacc = pd.DataFrame(modelfit.history['acc'])\n",
    "    valloss = pd.DataFrame(modelfit.history['val_loss'])\n",
    "    valacc = pd.DataFrame(modelfit.history['val_acc'])\n",
    "\n",
    "    summary = pd.concat([trainloss,trainacc,valloss,valacc],axis=1)\n",
    "    summary.columns = [\"train loss\",\"train acc\",\"val loss\",\"val acc\"]\n",
    "\n",
    "    #Plot learning curves\n",
    "    f, ax = plt.subplots(figsize=(15, 7))\n",
    "    plt.plot(summary.index+1,summary['train loss'],label='Train Loss')\n",
    "    plt.plot(summary.index+1,summary['val loss'],label='Val Loss')\n",
    "    x_axis = plt.xlabel('No. of Epochs')\n",
    "    y_axis = plt.ylabel('Loss')\n",
    "    plt.legend()\n",
    "    plt.show()        \n",
    "\n",
    "plot_learning_curves(model.modelfit)"
   ]
  },
  {
   "cell_type": "code",
   "execution_count": 8,
   "metadata": {},
   "outputs": [
    {
     "name": "stdout",
     "output_type": "stream",
     "text": [
      "9/9 [==============================] - 9s 1s/step\n",
      "Validation Loss: 1.032993197441101\n",
      "Validation Accuracy: 0.7777777910232544\n"
     ]
    }
   ],
   "source": [
    "#Evaluate model saved in h5 file\n",
    "evaluate = model.evaluate(x_val, y_val, model_save='model.h5')\n",
    "\n",
    "print('Validation Loss: {0}'.format(evaluate[0]))\n",
    "print('Validation Accuracy: {0}'.format(evaluate[1]))"
   ]
  },
  {
   "cell_type": "code",
   "execution_count": null,
   "metadata": {},
   "outputs": [],
   "source": []
  },
  {
   "cell_type": "code",
   "execution_count": null,
   "metadata": {},
   "outputs": [],
   "source": []
  }
 ],
 "metadata": {
  "colab": {
   "collapsed_sections": [],
   "name": "week6.ipynb",
   "provenance": [],
   "version": "0.3.2"
  },
  "kernelspec": {
   "display_name": "Python 3",
   "language": "python",
   "name": "python3"
  },
  "language_info": {
   "codemirror_mode": {
    "name": "ipython",
    "version": 3
   },
   "file_extension": ".py",
   "mimetype": "text/x-python",
   "name": "python",
   "nbconvert_exporter": "python",
   "pygments_lexer": "ipython3",
   "version": "3.6.9"
  }
 },
 "nbformat": 4,
 "nbformat_minor": 4
}
